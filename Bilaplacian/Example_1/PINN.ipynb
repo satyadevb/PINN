{
 "cells": [
  {
   "cell_type": "code",
   "execution_count": null,
   "metadata": {},
   "outputs": [],
   "source": [
    "soln1 = 256*(x**2 + eps**2 * (1 - np.exp(-x/eps))**2 )*((x-1)**2)*(y**2)*((y-1)**2)\n",
    "\n",
    "soln4 = ((x)**2)*((1 - y)**2)*((1 - x)**2)*((y)**2)"
   ]
  }
 ],
 "metadata": {
  "language_info": {
   "name": "python"
  }
 },
 "nbformat": 4,
 "nbformat_minor": 2
}
